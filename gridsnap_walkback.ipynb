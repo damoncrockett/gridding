{
 "cells": [
  {
   "cell_type": "markdown",
   "metadata": {},
   "source": [
    "####CENTROID DATA TO GET AXES SUBSET"
   ]
  },
  {
   "cell_type": "code",
   "execution_count": 2,
   "metadata": {
    "collapsed": true
   },
   "outputs": [],
   "source": [
    "category = \"Nature\""
   ]
  },
  {
   "cell_type": "code",
   "execution_count": 3,
   "metadata": {
    "collapsed": true
   },
   "outputs": [],
   "source": [
    "DIR = \"/Users/damoncrockett/Desktop/cities_20k/yahoo/NEW_Clusters/Clusters_Normalized/\""
   ]
  },
  {
   "cell_type": "code",
   "execution_count": 4,
   "metadata": {
    "collapsed": true
   },
   "outputs": [],
   "source": [
    "DATA = DIR+\"Normalized_Clustered/50/cluster_characterization_\"+category+\".csv\""
   ]
  },
  {
   "cell_type": "code",
   "execution_count": 5,
   "metadata": {
    "collapsed": true
   },
   "outputs": [],
   "source": [
    "import pandas as pd\n",
    "centroids = pd.read_csv(DATA)\n",
    "del centroids['Unnamed: 0']"
   ]
  },
  {
   "cell_type": "markdown",
   "metadata": {},
   "source": [
    "####CATEGORY DATA TO GET IMAGE SUBSET"
   ]
  },
  {
   "cell_type": "code",
   "execution_count": 6,
   "metadata": {
    "collapsed": false
   },
   "outputs": [],
   "source": [
    "DATA = DIR+\"Normalized_Cluster_Labels/50/\"+category+\".csv\""
   ]
  },
  {
   "cell_type": "code",
   "execution_count": 7,
   "metadata": {
    "collapsed": true
   },
   "outputs": [],
   "source": [
    "images = pd.read_csv(DATA)"
   ]
  },
  {
   "cell_type": "markdown",
   "metadata": {},
   "source": [
    "####ADD LOCAL PATHS TO FULL METADATA"
   ]
  },
  {
   "cell_type": "code",
   "execution_count": 9,
   "metadata": {
    "collapsed": true
   },
   "outputs": [],
   "source": [
    "BASE = \"/Users/damoncrockett/Desktop/cities_20k/\""
   ]
  },
  {
   "cell_type": "code",
   "execution_count": 10,
   "metadata": {
    "collapsed": true
   },
   "outputs": [],
   "source": [
    "import glob\n",
    "import os"
   ]
  },
  {
   "cell_type": "code",
   "execution_count": 13,
   "metadata": {
    "collapsed": false
   },
   "outputs": [],
   "source": [
    "for file in glob.glob(os.path.join(BASE+\"yahoo/\",\"*.tsv\")):\n",
    "    tmp = pd.read_csv(file)\n",
    "    n = len(tmp.index)\n",
    "    local_path = []\n",
    "    for i in range(n):\n",
    "        local_path.append(BASE+os.path.basename(file).split(\"_\")[0]+\"_20k/\"+tmp.ad_id.loc[i]+\".jpg\")\n",
    "    tmp['local_path'] = local_path\n",
    "    tmp.to_csv(file,index=False)"
   ]
  },
  {
   "cell_type": "markdown",
   "metadata": {},
   "source": [
    "####SUBSET FULL DATA BY AXES AND IMAGES"
   ]
  },
  {
   "cell_type": "code",
   "execution_count": 11,
   "metadata": {
    "collapsed": false
   },
   "outputs": [],
   "source": [
    "counter=-1\n",
    "\n",
    "for file in glob.glob(os.path.join(BASE+\"yahoo/\",\"*.tsv\")):\n",
    "    counter+=1\n",
    "    tmp = pd.read_csv(file)\n",
    "    columns = list(centroids.columns.values)\n",
    "    columns.append(\"local_path\")\n",
    "    tmp = tmp[columns]\n",
    "    if counter==0:\n",
    "        collection = tmp\n",
    "    else:\n",
    "        collection = collection.append(tmp)"
   ]
  },
  {
   "cell_type": "code",
   "execution_count": 12,
   "metadata": {
    "collapsed": false
   },
   "outputs": [],
   "source": [
    "image_subset = list(set(list(images.local_path)))\n",
    "collection = collection[collection.local_path.isin(image_subset)]"
   ]
  },
  {
   "cell_type": "code",
   "execution_count": 13,
   "metadata": {
    "collapsed": false
   },
   "outputs": [],
   "source": [
    "collection.reset_index(drop=True,inplace=True)"
   ]
  },
  {
   "cell_type": "code",
   "execution_count": 14,
   "metadata": {
    "collapsed": false
   },
   "outputs": [],
   "source": [
    "num_cols = len(collection.columns)"
   ]
  },
  {
   "cell_type": "markdown",
   "metadata": {},
   "source": [
    "####PROJECTION TO 2D"
   ]
  },
  {
   "cell_type": "code",
   "execution_count": 15,
   "metadata": {
    "collapsed": false
   },
   "outputs": [],
   "source": [
    "from sklearn.decomposition import RandomizedPCA as pca\n",
    "from sklearn.manifold import TSNE as tsne\n",
    "\n",
    "#pca = pca(n_components=2)\n",
    "tsne = tsne(n_components=2)\n",
    "\n",
    "X = collection.iloc[:,0:num_cols-1].as_matrix()\n",
    "\n",
    "#pca.fit(X)\n",
    "tsne.fit(X)"
   ]
  },
  {
   "cell_type": "code",
   "execution_count": 25,
   "metadata": {
    "collapsed": true
   },
   "outputs": [],
   "source": [
    "#subspace_pca = pd.DataFrame(pca.transform(X),columns=[\"x\",\"y\"])\n",
    "subspace_tsne = pd.DataFrame(tsne.fit_transform(X),columns=[\"x\",\"y\"])"
   ]
  },
  {
   "cell_type": "code",
   "execution_count": 26,
   "metadata": {
    "collapsed": true
   },
   "outputs": [],
   "source": [
    "%matplotlib inline\n",
    "import matplotlib.pyplot as plt"
   ]
  },
  {
   "cell_type": "code",
   "execution_count": 20,
   "metadata": {
    "collapsed": false
   },
   "outputs": [],
   "source": [
    "#x = subspace_pca.x\n",
    "#y = subspace_pca.y\n",
    "#fig, ax = plt.subplots(figsize=(4,4))\n",
    "#ax.scatter(x, y)"
   ]
  },
  {
   "cell_type": "code",
   "execution_count": 27,
   "metadata": {
    "collapsed": false
   },
   "outputs": [
    {
     "data": {
      "text/plain": [
       "<matplotlib.collections.PathCollection at 0x10fa25250>"
      ]
     },
     "execution_count": 27,
     "metadata": {},
     "output_type": "execute_result"
    },
    {
     "data": {
      "image/png": "[encoded data removed]",
      "text/plain": [
       "<matplotlib.figure.Figure at 0x115223b90>"
      ]
     },
     "metadata": {},
     "output_type": "display_data"
    }
   ],
   "source": [
    "x = subspace_tsne.x\n",
    "y = subspace_tsne.y\n",
    "fig, ax = plt.subplots(figsize=(4,4))\n",
    "ax.scatter(x, y)"
   ]
  },
  {
   "cell_type": "markdown",
   "metadata": {},
   "source": [
    "####MINIMIZE GRID"
   ]
  },
  {
   "cell_type": "code",
   "execution_count": 28,
   "metadata": {
    "collapsed": true
   },
   "outputs": [],
   "source": [
    "import numpy as np"
   ]
  },
  {
   "cell_type": "code",
   "execution_count": 39,
   "metadata": {
    "collapsed": false
   },
   "outputs": [],
   "source": [
    "def check_duplicates(num_bins):\n",
    "    x = list(pd.cut(subspace_tsne['x'],num_bins,labels=False))\n",
    "    y = list(pd.cut(subspace_tsne['y'],num_bins,labels=False))\n",
    "    tmp = pd.DataFrame(x)\n",
    "    tmp['y'] = y\n",
    "    n = np.mean(tmp.duplicated())\n",
    "    return n"
   ]
  },
  {
   "cell_type": "code",
   "execution_count": 47,
   "metadata": {
    "collapsed": false
   },
   "outputs": [
    {
     "name": "stdout",
     "output_type": "stream",
     "text": [
      "233\n"
     ]
    }
   ],
   "source": [
    "num_bins = 2\n",
    "while check_duplicates(num_bins) > 0.1:\n",
    "    num_bins+=1\n",
    "print num_bins"
   ]
  },
  {
   "cell_type": "code",
   "execution_count": 31,
   "metadata": {
    "collapsed": true
   },
   "outputs": [],
   "source": [
    "num_bins_down = num_bins"
   ]
  },
  {
   "cell_type": "code",
   "execution_count": 32,
   "metadata": {
    "collapsed": false
   },
   "outputs": [],
   "source": [
    "def check_duplicates_x(num_bins_down):\n",
    "    x = list(pd.cut(subspace_tsne['x'],num_bins_down,labels=False))\n",
    "    y = list(pd.cut(subspace_tsne['y'],num_bins,labels=False))\n",
    "    tmp = pd.DataFrame(x)\n",
    "    tmp['y'] = y\n",
    "    n = np.mean(tmp.duplicated())\n",
    "    return n"
   ]
  },
  {
   "cell_type": "code",
   "execution_count": 33,
   "metadata": {
    "collapsed": true
   },
   "outputs": [],
   "source": [
    "def check_duplicates_y(num_bins_down):\n",
    "    x = list(pd.cut(subspace_tsne['x'],num_bins,labels=False))\n",
    "    y = list(pd.cut(subspace_tsne['y'],num_bins_down,labels=False))\n",
    "    tmp = pd.DataFrame(x)\n",
    "    tmp['y'] = y\n",
    "    n = np.mean(tmp.duplicated())\n",
    "    return n"
   ]
  },
  {
   "cell_type": "code",
   "execution_count": 34,
   "metadata": {
    "collapsed": false
   },
   "outputs": [
    {
     "name": "stdout",
     "output_type": "stream",
     "text": [
      "4161\n"
     ]
    }
   ],
   "source": [
    "while check_duplicates_x(num_bins_down) == 0:\n",
    "    num_bins_down -= 1\n",
    "print num_bins_down"
   ]
  },
  {
   "cell_type": "code",
   "execution_count": 35,
   "metadata": {
    "collapsed": false
   },
   "outputs": [
    {
     "name": "stdout",
     "output_type": "stream",
     "text": [
      "4161\n"
     ]
    }
   ],
   "source": [
    "while check_duplicates_y(num_bins_down) == 0:\n",
    "    num_bins_down -= 1\n",
    "print num_bins_down"
   ]
  },
  {
   "cell_type": "markdown",
   "metadata": {},
   "source": [
    "####BIN"
   ]
  },
  {
   "cell_type": "code",
   "execution_count": 36,
   "metadata": {
    "collapsed": true
   },
   "outputs": [],
   "source": [
    "num_bins = 4162"
   ]
  },
  {
   "cell_type": "code",
   "execution_count": 37,
   "metadata": {
    "collapsed": false
   },
   "outputs": [],
   "source": [
    "subspace_tsne['grid_x'] = pd.cut(subspace_tsne['x'],num_bins,labels=False)\n",
    "subspace_tsne['grid_y'] = pd.cut(subspace_tsne['y'],num_bins,labels=False)"
   ]
  },
  {
   "cell_type": "markdown",
   "metadata": {},
   "source": [
    "####ADD PATHS"
   ]
  },
  {
   "cell_type": "code",
   "execution_count": 38,
   "metadata": {
    "collapsed": true
   },
   "outputs": [],
   "source": [
    "subspace_tsne['local_path'] = collection.local_path"
   ]
  },
  {
   "cell_type": "markdown",
   "metadata": {},
   "source": [
    "##THE WALKBACK"
   ]
  },
  {
   "cell_type": "markdown",
   "metadata": {},
   "source": [
    "The idea is simple: now that the images all have unique grid squares, we want to have them 'walk back' to the center of mass so that we have one clump of images, organized by similarity, as close to the t-SNE coordinates as we can while nonetheless having a large clump of images. Within this simple thought are a million variations, however, and we can imagine they might have a big impact on the resulting plot.\n",
    "\n",
    "For one thing, we want the images to walk on a straight line back to the center of mass. This can be accomplished by having each image move to the open adjacent square nearest the center of mass. Also, images should stop walking when moving again would put them further from the center of mass. Also, images should take turns starting with those closest to the center of mass."
   ]
  },
  {
   "cell_type": "code",
   "execution_count": null,
   "metadata": {
    "collapsed": true
   },
   "outputs": [],
   "source": []
  },
  {
   "cell_type": "code",
   "execution_count": null,
   "metadata": {
    "collapsed": true
   },
   "outputs": [],
   "source": []
  },
  {
   "cell_type": "code",
   "execution_count": null,
   "metadata": {
    "collapsed": true
   },
   "outputs": [],
   "source": []
  },
  {
   "cell_type": "code",
   "execution_count": null,
   "metadata": {
    "collapsed": true
   },
   "outputs": [],
   "source": []
  },
  {
   "cell_type": "code",
   "execution_count": null,
   "metadata": {
    "collapsed": true
   },
   "outputs": [],
   "source": []
  },
  {
   "cell_type": "code",
   "execution_count": null,
   "metadata": {
    "collapsed": true
   },
   "outputs": [],
   "source": []
  },
  {
   "cell_type": "code",
   "execution_count": null,
   "metadata": {
    "collapsed": true
   },
   "outputs": [],
   "source": []
  },
  {
   "cell_type": "code",
   "execution_count": null,
   "metadata": {
    "collapsed": true
   },
   "outputs": [],
   "source": []
  },
  {
   "cell_type": "code",
   "execution_count": null,
   "metadata": {
    "collapsed": true
   },
   "outputs": [],
   "source": []
  },
  {
   "cell_type": "code",
   "execution_count": null,
   "metadata": {
    "collapsed": true
   },
   "outputs": [],
   "source": []
  },
  {
   "cell_type": "code",
   "execution_count": null,
   "metadata": {
    "collapsed": true
   },
   "outputs": [],
   "source": []
  },
  {
   "cell_type": "code",
   "execution_count": null,
   "metadata": {
    "collapsed": true
   },
   "outputs": [],
   "source": []
  },
  {
   "cell_type": "code",
   "execution_count": null,
   "metadata": {
    "collapsed": true
   },
   "outputs": [],
   "source": []
  },
  {
   "cell_type": "markdown",
   "metadata": {},
   "source": [
    "####PLOT"
   ]
  },
  {
   "cell_type": "code",
   "execution_count": 77,
   "metadata": {
    "collapsed": true
   },
   "outputs": [],
   "source": [
    "n = len(subspace_tsne.index)"
   ]
  },
  {
   "cell_type": "code",
   "execution_count": 78,
   "metadata": {
    "collapsed": true
   },
   "outputs": [],
   "source": [
    "from PIL import Image"
   ]
  },
  {
   "cell_type": "code",
   "execution_count": 79,
   "metadata": {
    "collapsed": true
   },
   "outputs": [],
   "source": [
    "thumb_side = 64"
   ]
  },
  {
   "cell_type": "code",
   "execution_count": 80,
   "metadata": {
    "collapsed": true
   },
   "outputs": [],
   "source": [
    "grid_side = num_bins"
   ]
  },
  {
   "cell_type": "code",
   "execution_count": 81,
   "metadata": {
    "collapsed": true
   },
   "outputs": [],
   "source": [
    "px_w = thumb_side * grid_side\n",
    "px_h = thumb_side * grid_side"
   ]
  },
  {
   "cell_type": "code",
   "execution_count": 82,
   "metadata": {
    "collapsed": true
   },
   "outputs": [],
   "source": [
    "canvas = Image.new('RGB',(px_w,px_h),(50,50,50))"
   ]
  },
  {
   "cell_type": "code",
   "execution_count": 83,
   "metadata": {
    "collapsed": false
   },
   "outputs": [],
   "source": [
    "for i in range(n):\n",
    "    im = Image.open(subspace_tsne.local_path.loc[i])\n",
    "    im.thumbnail((thumb_side,thumb_side),Image.ANTIALIAS)\n",
    "    x = subspace_tsne.grid_x.loc[i] * thumb_side\n",
    "    y = subspace_tsne.grid_y.loc[i] * thumb_side\n",
    "    canvas.paste(im,(x,y))"
   ]
  },
  {
   "cell_type": "code",
   "execution_count": 84,
   "metadata": {
    "collapsed": false
   },
   "outputs": [],
   "source": [
    "canvas.save(\"/Users/damoncrockett/Desktop/gridsnap_stack/Nature_tsne_\"+str(num_bins)+\".png\")"
   ]
  },
  {
   "cell_type": "code",
   "execution_count": null,
   "metadata": {
    "collapsed": true
   },
   "outputs": [],
   "source": []
  }
 ],
 "metadata": {
  "kernelspec": {
   "display_name": "Python 2",
   "language": "python",
   "name": "python2"
  },
  "language_info": {
   "codemirror_mode": {
    "name": "ipython",
    "version": 2
   },
   "file_extension": ".py",
   "mimetype": "text/x-python",
   "name": "python",
   "nbconvert_exporter": "python",
   "pygments_lexer": "ipython2",
   "version": "2.7.10"
  }
 },
 "nbformat": 4,
 "nbformat_minor": 0
}
