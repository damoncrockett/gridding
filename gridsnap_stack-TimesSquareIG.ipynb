{
 "cells": [
  {
   "cell_type": "code",
   "execution_count": 624,
   "metadata": {
    "collapsed": true
   },
   "outputs": [],
   "source": [
    "DIR = \"/Users/damoncrockett/Desktop/small/\""
   ]
  },
  {
   "cell_type": "code",
   "execution_count": 625,
   "metadata": {
    "collapsed": true
   },
   "outputs": [],
   "source": [
    "DATA = DIR+\"whole_metadata.csv\""
   ]
  },
  {
   "cell_type": "code",
   "execution_count": 626,
   "metadata": {
    "collapsed": true
   },
   "outputs": [],
   "source": [
    "import pandas as pd\n",
    "d = pd.read_csv(DATA)"
   ]
  },
  {
   "cell_type": "code",
   "execution_count": 627,
   "metadata": {
    "collapsed": false
   },
   "outputs": [
    {
     "data": {
      "text/html": [
       "<div>\n",
       "<table border=\"1\" class=\"dataframe\">\n",
       "  <thead>\n",
       "    <tr style=\"text-align: right;\">\n",
       "      <th></th>\n",
       "      <th>filename</th>\n",
       "      <th>hsd</th>\n",
       "      <th>hue_mean</th>\n",
       "      <th>sat_mean</th>\n",
       "      <th>val_mean</th>\n",
       "      <th>base</th>\n",
       "    </tr>\n",
       "  </thead>\n",
       "  <tbody>\n",
       "    <tr>\n",
       "      <th>0</th>\n",
       "      <td>/Users/damoncrockett/Desktop/small/p212/0000cf...</td>\n",
       "      <td>0.374423</td>\n",
       "      <td>0.595871</td>\n",
       "      <td>0.225859</td>\n",
       "      <td>0.417203</td>\n",
       "      <td>0000cf3eb76911e3aea30e0a45d706d2_8.jpg</td>\n",
       "    </tr>\n",
       "    <tr>\n",
       "      <th>1</th>\n",
       "      <td>/Users/damoncrockett/Desktop/small/p212/000287...</td>\n",
       "      <td>0.346415</td>\n",
       "      <td>0.572209</td>\n",
       "      <td>0.229280</td>\n",
       "      <td>0.519352</td>\n",
       "      <td>000287a4b4a611e387960ee8fbc8973c_8.jpg</td>\n",
       "    </tr>\n",
       "    <tr>\n",
       "      <th>2</th>\n",
       "      <td>/Users/damoncrockett/Desktop/small/p212/000dc3...</td>\n",
       "      <td>0.374720</td>\n",
       "      <td>0.290403</td>\n",
       "      <td>0.502587</td>\n",
       "      <td>0.542885</td>\n",
       "      <td>000dc354b85111e3abea12c3758099f3_8.jpg</td>\n",
       "    </tr>\n",
       "    <tr>\n",
       "      <th>3</th>\n",
       "      <td>/Users/damoncrockett/Desktop/small/p212/001651...</td>\n",
       "      <td>0.346492</td>\n",
       "      <td>0.378924</td>\n",
       "      <td>0.229229</td>\n",
       "      <td>0.418924</td>\n",
       "      <td>00165196a61c11e3bfa312a0ed1ac256_8.jpg</td>\n",
       "    </tr>\n",
       "    <tr>\n",
       "      <th>4</th>\n",
       "      <td>/Users/damoncrockett/Desktop/small/p212/001b7f...</td>\n",
       "      <td>0.306901</td>\n",
       "      <td>0.625505</td>\n",
       "      <td>0.214986</td>\n",
       "      <td>0.611959</td>\n",
       "      <td>001b7fb6a96611e3bb610e61fa614c2b_8.jpg</td>\n",
       "    </tr>\n",
       "  </tbody>\n",
       "</table>\n",
       "</div>"
      ],
      "text/plain": [
       "                                            filename       hsd  hue_mean  \\\n",
       "0  /Users/damoncrockett/Desktop/small/p212/0000cf...  0.374423  0.595871   \n",
       "1  /Users/damoncrockett/Desktop/small/p212/000287...  0.346415  0.572209   \n",
       "2  /Users/damoncrockett/Desktop/small/p212/000dc3...  0.374720  0.290403   \n",
       "3  /Users/damoncrockett/Desktop/small/p212/001651...  0.346492  0.378924   \n",
       "4  /Users/damoncrockett/Desktop/small/p212/001b7f...  0.306901  0.625505   \n",
       "\n",
       "   sat_mean  val_mean                                    base  \n",
       "0  0.225859  0.417203  0000cf3eb76911e3aea30e0a45d706d2_8.jpg  \n",
       "1  0.229280  0.519352  000287a4b4a611e387960ee8fbc8973c_8.jpg  \n",
       "2  0.502587  0.542885  000dc354b85111e3abea12c3758099f3_8.jpg  \n",
       "3  0.229229  0.418924  00165196a61c11e3bfa312a0ed1ac256_8.jpg  \n",
       "4  0.214986  0.611959  001b7fb6a96611e3bb610e61fa614c2b_8.jpg  "
      ]
     },
     "execution_count": 627,
     "metadata": {},
     "output_type": "execute_result"
    }
   ],
   "source": [
    "d.head()"
   ]
  },
  {
   "cell_type": "code",
   "execution_count": 628,
   "metadata": {
    "collapsed": true
   },
   "outputs": [],
   "source": [
    "d = d[d.sat_mean > 0.5]"
   ]
  },
  {
   "cell_type": "code",
   "execution_count": 629,
   "metadata": {
    "collapsed": false
   },
   "outputs": [],
   "source": [
    "u = d.sample(n=1024)"
   ]
  },
  {
   "cell_type": "code",
   "execution_count": 630,
   "metadata": {
    "collapsed": true
   },
   "outputs": [],
   "source": [
    "u.reset_index(drop=True,inplace=True)"
   ]
  },
  {
   "cell_type": "markdown",
   "metadata": {},
   "source": [
    "####PROJECTION TO 2D"
   ]
  },
  {
   "cell_type": "code",
   "execution_count": 631,
   "metadata": {
    "collapsed": false
   },
   "outputs": [],
   "source": [
    "from sklearn.decomposition import RandomizedPCA as pca\n",
    "from sklearn.manifold import TSNE as tsne\n",
    "\n",
    "#pca = pca(n_components=2)\n",
    "tsne = tsne(n_components=2)\n",
    "\n",
    "X = u.iloc[:,1:5].as_matrix()\n",
    "\n",
    "#pca.fit(X)\n",
    "tsne.fit(X)"
   ]
  },
  {
   "cell_type": "code",
   "execution_count": 632,
   "metadata": {
    "collapsed": true
   },
   "outputs": [],
   "source": [
    "#subspace_pca = pd.DataFrame(pca.transform(X),columns=[\"x\",\"y\"])\n",
    "subspace_tsne = pd.DataFrame(tsne.fit_transform(X),columns=[\"x\",\"y\"])"
   ]
  },
  {
   "cell_type": "code",
   "execution_count": 633,
   "metadata": {
    "collapsed": true
   },
   "outputs": [],
   "source": [
    "%matplotlib inline\n",
    "import matplotlib.pyplot as plt"
   ]
  },
  {
   "cell_type": "code",
   "execution_count": 634,
   "metadata": {
    "collapsed": false
   },
   "outputs": [],
   "source": [
    "#x = subspace_pca.x\n",
    "#y = subspace_pca.y\n",
    "#fig, ax = plt.subplots(figsize=(4,4))\n",
    "#ax.scatter(x, y)"
   ]
  },
  {
   "cell_type": "code",
   "execution_count": 635,
   "metadata": {
    "collapsed": false
   },
   "outputs": [
    {
     "data": {
      "text/plain": [
       "<matplotlib.collections.PathCollection at 0x12bc37ed0>"
      ]
     },
     "execution_count": 635,
     "metadata": {},
     "output_type": "execute_result"
    },
    {
     "data": {
      "image/png": "[encoded data removed]",
      "text/plain": [
       "<matplotlib.figure.Figure at 0x12e06fb10>"
      ]
     },
     "metadata": {},
     "output_type": "display_data"
    }
   ],
   "source": [
    "x = subspace_tsne.x\n",
    "y = subspace_tsne.y\n",
    "fig, ax = plt.subplots(figsize=(4,4))\n",
    "ax.scatter(x, y)"
   ]
  },
  {
   "cell_type": "markdown",
   "metadata": {},
   "source": [
    "####BIN"
   ]
  },
  {
   "cell_type": "code",
   "execution_count": 658,
   "metadata": {
    "collapsed": true
   },
   "outputs": [],
   "source": [
    "num_bins = 12"
   ]
  },
  {
   "cell_type": "code",
   "execution_count": 659,
   "metadata": {
    "collapsed": false
   },
   "outputs": [],
   "source": [
    "subspace_tsne['grid_x'] = pd.cut(subspace_tsne['x'],num_bins,labels=False)\n",
    "subspace_tsne['grid_y'] = pd.cut(subspace_tsne['y'],num_bins,labels=False)"
   ]
  },
  {
   "cell_type": "markdown",
   "metadata": {},
   "source": [
    "####ADD PATHS"
   ]
  },
  {
   "cell_type": "code",
   "execution_count": 660,
   "metadata": {
    "collapsed": true
   },
   "outputs": [],
   "source": [
    "subspace_tsne['local_path'] = u.filename"
   ]
  },
  {
   "cell_type": "markdown",
   "metadata": {},
   "source": [
    "####PLOT"
   ]
  },
  {
   "cell_type": "code",
   "execution_count": 661,
   "metadata": {
    "collapsed": true
   },
   "outputs": [],
   "source": [
    "n = len(subspace_tsne.index)"
   ]
  },
  {
   "cell_type": "code",
   "execution_count": 662,
   "metadata": {
    "collapsed": true
   },
   "outputs": [],
   "source": [
    "from PIL import Image"
   ]
  },
  {
   "cell_type": "code",
   "execution_count": 663,
   "metadata": {
    "collapsed": true
   },
   "outputs": [],
   "source": [
    "thumb_side = 64"
   ]
  },
  {
   "cell_type": "code",
   "execution_count": 664,
   "metadata": {
    "collapsed": true
   },
   "outputs": [],
   "source": [
    "grid_side = num_bins"
   ]
  },
  {
   "cell_type": "code",
   "execution_count": 665,
   "metadata": {
    "collapsed": true
   },
   "outputs": [],
   "source": [
    "px_w = thumb_side * grid_side\n",
    "px_h = thumb_side * grid_side"
   ]
  },
  {
   "cell_type": "code",
   "execution_count": 666,
   "metadata": {
    "collapsed": true
   },
   "outputs": [],
   "source": [
    "canvas = Image.new('RGB',(px_w,px_h),(255,255,255))"
   ]
  },
  {
   "cell_type": "code",
   "execution_count": 667,
   "metadata": {
    "collapsed": false
   },
   "outputs": [],
   "source": [
    "for i in range(n):\n",
    "    im = Image.open(subspace_tsne.local_path.loc[i])\n",
    "    im.thumbnail((thumb_side,thumb_side),Image.ANTIALIAS)\n",
    "    x = subspace_tsne.grid_x.loc[i] * thumb_side\n",
    "    y = subspace_tsne.grid_y.loc[i] * thumb_side\n",
    "    canvas.paste(im,(x,y))"
   ]
  },
  {
   "cell_type": "code",
   "execution_count": 668,
   "metadata": {
    "collapsed": false
   },
   "outputs": [],
   "source": [
    "canvas.save(\"/Users/damoncrockett/Desktop/small/\"+str(num_bins)+\".png\")"
   ]
  },
  {
   "cell_type": "code",
   "execution_count": null,
   "metadata": {
    "collapsed": true
   },
   "outputs": [],
   "source": []
  }
 ],
 "metadata": {
  "kernelspec": {
   "display_name": "Python 2",
   "language": "python",
   "name": "python2"
  },
  "language_info": {
   "codemirror_mode": {
    "name": "ipython",
    "version": 2
   },
   "file_extension": ".py",
   "mimetype": "text/x-python",
   "name": "python",
   "nbconvert_exporter": "python",
   "pygments_lexer": "ipython2",
   "version": "2.7.10"
  }
 },
 "nbformat": 4,
 "nbformat_minor": 0
}
